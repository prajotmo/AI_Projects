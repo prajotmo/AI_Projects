{
  "cells": [
    {
      "cell_type": "markdown",
      "metadata": {
        "id": "view-in-github",
        "colab_type": "text"
      },
      "source": [
        "<a href=\"https://colab.research.google.com/github/prajotmo/next-word-prediction-using-BI--LSTM/blob/main/nextword.ipynb\" target=\"_parent\"><img src=\"https://colab.research.google.com/assets/colab-badge.svg\" alt=\"Open In Colab\"/></a>"
      ]
    },
    {
      "cell_type": "code",
      "source": [
        "import pandas as pd\n",
        "import os\n",
        "import numpy as np\n",
        "\n",
        "import tensorflow as tf\n",
        "from tensorflow.keras.preprocessing.sequence import pad_sequences\n",
        "from tensorflow.keras.layers import Embedding, LSTM, Dense, Bidirectional\n",
        "from tensorflow.keras.preprocessing.text import Tokenizer\n",
        "from tensorflow.keras.models import Sequential\n",
        "from tensorflow.keras.optimizers import Adam"
      ],
      "metadata": {
        "id": "8N6wMdne2Vnc"
      },
      "execution_count": 1,
      "outputs": []
    },
    {
      "cell_type": "code",
      "source": [
        "medium_data = pd.read_csv('/content/drive/MyDrive/medium_data.csv (1).zip')\n",
        "medium_data.head()"
      ],
      "metadata": {
        "colab": {
          "base_uri": "https://localhost:8080/",
          "height": 328
        },
        "id": "n0agvECG2eft",
        "outputId": "49aba559-2ab7-4bf0-8dc7-d596d2051bec"
      },
      "execution_count": 2,
      "outputs": [
        {
          "output_type": "execute_result",
          "data": {
            "text/plain": [
              "   id                                                url  \\\n",
              "0   1  https://towardsdatascience.com/a-beginners-gui...   \n",
              "1   2  https://towardsdatascience.com/hands-on-graph-...   \n",
              "2   3  https://towardsdatascience.com/how-to-use-ggpl...   \n",
              "3   4  https://towardsdatascience.com/databricks-how-...   \n",
              "4   5  https://towardsdatascience.com/a-step-by-step-...   \n",
              "\n",
              "                                               title  \\\n",
              "0  A Beginner’s Guide to Word Embedding with Gens...   \n",
              "1  Hands-on Graph Neural Networks with PyTorch & ...   \n",
              "2                       How to Use ggplot2 in Python   \n",
              "3  Databricks: How to Save Files in CSV on Your L...   \n",
              "4  A Step-by-Step Implementation of Gradient Desc...   \n",
              "\n",
              "                                  subtitle   image  claps responses  \\\n",
              "0                                      NaN   1.png    850         8   \n",
              "1                                      NaN   2.png   1100        11   \n",
              "2         A Grammar of Graphics for Python   3.png    767         1   \n",
              "3  When I work on Python projects dealing…  4.jpeg    354         0   \n",
              "4          One example of building neural…  5.jpeg    211         3   \n",
              "\n",
              "   reading_time           publication        date  \n",
              "0             8  Towards Data Science  2019-05-30  \n",
              "1             9  Towards Data Science  2019-05-30  \n",
              "2             5  Towards Data Science  2019-05-30  \n",
              "3             4  Towards Data Science  2019-05-30  \n",
              "4             4  Towards Data Science  2019-05-30  "
            ],
            "text/html": [
              "\n",
              "  <div id=\"df-215af262-5eea-403a-aad4-be654fa998ef\" class=\"colab-df-container\">\n",
              "    <div>\n",
              "<style scoped>\n",
              "    .dataframe tbody tr th:only-of-type {\n",
              "        vertical-align: middle;\n",
              "    }\n",
              "\n",
              "    .dataframe tbody tr th {\n",
              "        vertical-align: top;\n",
              "    }\n",
              "\n",
              "    .dataframe thead th {\n",
              "        text-align: right;\n",
              "    }\n",
              "</style>\n",
              "<table border=\"1\" class=\"dataframe\">\n",
              "  <thead>\n",
              "    <tr style=\"text-align: right;\">\n",
              "      <th></th>\n",
              "      <th>id</th>\n",
              "      <th>url</th>\n",
              "      <th>title</th>\n",
              "      <th>subtitle</th>\n",
              "      <th>image</th>\n",
              "      <th>claps</th>\n",
              "      <th>responses</th>\n",
              "      <th>reading_time</th>\n",
              "      <th>publication</th>\n",
              "      <th>date</th>\n",
              "    </tr>\n",
              "  </thead>\n",
              "  <tbody>\n",
              "    <tr>\n",
              "      <th>0</th>\n",
              "      <td>1</td>\n",
              "      <td>https://towardsdatascience.com/a-beginners-gui...</td>\n",
              "      <td>A Beginner’s Guide to Word Embedding with Gens...</td>\n",
              "      <td>NaN</td>\n",
              "      <td>1.png</td>\n",
              "      <td>850</td>\n",
              "      <td>8</td>\n",
              "      <td>8</td>\n",
              "      <td>Towards Data Science</td>\n",
              "      <td>2019-05-30</td>\n",
              "    </tr>\n",
              "    <tr>\n",
              "      <th>1</th>\n",
              "      <td>2</td>\n",
              "      <td>https://towardsdatascience.com/hands-on-graph-...</td>\n",
              "      <td>Hands-on Graph Neural Networks with PyTorch &amp; ...</td>\n",
              "      <td>NaN</td>\n",
              "      <td>2.png</td>\n",
              "      <td>1100</td>\n",
              "      <td>11</td>\n",
              "      <td>9</td>\n",
              "      <td>Towards Data Science</td>\n",
              "      <td>2019-05-30</td>\n",
              "    </tr>\n",
              "    <tr>\n",
              "      <th>2</th>\n",
              "      <td>3</td>\n",
              "      <td>https://towardsdatascience.com/how-to-use-ggpl...</td>\n",
              "      <td>How to Use ggplot2 in Python</td>\n",
              "      <td>A Grammar of Graphics for Python</td>\n",
              "      <td>3.png</td>\n",
              "      <td>767</td>\n",
              "      <td>1</td>\n",
              "      <td>5</td>\n",
              "      <td>Towards Data Science</td>\n",
              "      <td>2019-05-30</td>\n",
              "    </tr>\n",
              "    <tr>\n",
              "      <th>3</th>\n",
              "      <td>4</td>\n",
              "      <td>https://towardsdatascience.com/databricks-how-...</td>\n",
              "      <td>Databricks: How to Save Files in CSV on Your L...</td>\n",
              "      <td>When I work on Python projects dealing…</td>\n",
              "      <td>4.jpeg</td>\n",
              "      <td>354</td>\n",
              "      <td>0</td>\n",
              "      <td>4</td>\n",
              "      <td>Towards Data Science</td>\n",
              "      <td>2019-05-30</td>\n",
              "    </tr>\n",
              "    <tr>\n",
              "      <th>4</th>\n",
              "      <td>5</td>\n",
              "      <td>https://towardsdatascience.com/a-step-by-step-...</td>\n",
              "      <td>A Step-by-Step Implementation of Gradient Desc...</td>\n",
              "      <td>One example of building neural…</td>\n",
              "      <td>5.jpeg</td>\n",
              "      <td>211</td>\n",
              "      <td>3</td>\n",
              "      <td>4</td>\n",
              "      <td>Towards Data Science</td>\n",
              "      <td>2019-05-30</td>\n",
              "    </tr>\n",
              "  </tbody>\n",
              "</table>\n",
              "</div>\n",
              "    <div class=\"colab-df-buttons\">\n",
              "\n",
              "  <div class=\"colab-df-container\">\n",
              "    <button class=\"colab-df-convert\" onclick=\"convertToInteractive('df-215af262-5eea-403a-aad4-be654fa998ef')\"\n",
              "            title=\"Convert this dataframe to an interactive table.\"\n",
              "            style=\"display:none;\">\n",
              "\n",
              "  <svg xmlns=\"http://www.w3.org/2000/svg\" height=\"24px\" viewBox=\"0 -960 960 960\">\n",
              "    <path d=\"M120-120v-720h720v720H120Zm60-500h600v-160H180v160Zm220 220h160v-160H400v160Zm0 220h160v-160H400v160ZM180-400h160v-160H180v160Zm440 0h160v-160H620v160ZM180-180h160v-160H180v160Zm440 0h160v-160H620v160Z\"/>\n",
              "  </svg>\n",
              "    </button>\n",
              "\n",
              "  <style>\n",
              "    .colab-df-container {\n",
              "      display:flex;\n",
              "      gap: 12px;\n",
              "    }\n",
              "\n",
              "    .colab-df-convert {\n",
              "      background-color: #E8F0FE;\n",
              "      border: none;\n",
              "      border-radius: 50%;\n",
              "      cursor: pointer;\n",
              "      display: none;\n",
              "      fill: #1967D2;\n",
              "      height: 32px;\n",
              "      padding: 0 0 0 0;\n",
              "      width: 32px;\n",
              "    }\n",
              "\n",
              "    .colab-df-convert:hover {\n",
              "      background-color: #E2EBFA;\n",
              "      box-shadow: 0px 1px 2px rgba(60, 64, 67, 0.3), 0px 1px 3px 1px rgba(60, 64, 67, 0.15);\n",
              "      fill: #174EA6;\n",
              "    }\n",
              "\n",
              "    .colab-df-buttons div {\n",
              "      margin-bottom: 4px;\n",
              "    }\n",
              "\n",
              "    [theme=dark] .colab-df-convert {\n",
              "      background-color: #3B4455;\n",
              "      fill: #D2E3FC;\n",
              "    }\n",
              "\n",
              "    [theme=dark] .colab-df-convert:hover {\n",
              "      background-color: #434B5C;\n",
              "      box-shadow: 0px 1px 3px 1px rgba(0, 0, 0, 0.15);\n",
              "      filter: drop-shadow(0px 1px 2px rgba(0, 0, 0, 0.3));\n",
              "      fill: #FFFFFF;\n",
              "    }\n",
              "  </style>\n",
              "\n",
              "    <script>\n",
              "      const buttonEl =\n",
              "        document.querySelector('#df-215af262-5eea-403a-aad4-be654fa998ef button.colab-df-convert');\n",
              "      buttonEl.style.display =\n",
              "        google.colab.kernel.accessAllowed ? 'block' : 'none';\n",
              "\n",
              "      async function convertToInteractive(key) {\n",
              "        const element = document.querySelector('#df-215af262-5eea-403a-aad4-be654fa998ef');\n",
              "        const dataTable =\n",
              "          await google.colab.kernel.invokeFunction('convertToInteractive',\n",
              "                                                    [key], {});\n",
              "        if (!dataTable) return;\n",
              "\n",
              "        const docLinkHtml = 'Like what you see? Visit the ' +\n",
              "          '<a target=\"_blank\" href=https://colab.research.google.com/notebooks/data_table.ipynb>data table notebook</a>'\n",
              "          + ' to learn more about interactive tables.';\n",
              "        element.innerHTML = '';\n",
              "        dataTable['output_type'] = 'display_data';\n",
              "        await google.colab.output.renderOutput(dataTable, element);\n",
              "        const docLink = document.createElement('div');\n",
              "        docLink.innerHTML = docLinkHtml;\n",
              "        element.appendChild(docLink);\n",
              "      }\n",
              "    </script>\n",
              "  </div>\n",
              "\n",
              "\n",
              "<div id=\"df-fea3fdff-1166-4cd4-9808-0bc7fc0cfa3c\">\n",
              "  <button class=\"colab-df-quickchart\" onclick=\"quickchart('df-fea3fdff-1166-4cd4-9808-0bc7fc0cfa3c')\"\n",
              "            title=\"Suggest charts\"\n",
              "            style=\"display:none;\">\n",
              "\n",
              "<svg xmlns=\"http://www.w3.org/2000/svg\" height=\"24px\"viewBox=\"0 0 24 24\"\n",
              "     width=\"24px\">\n",
              "    <g>\n",
              "        <path d=\"M19 3H5c-1.1 0-2 .9-2 2v14c0 1.1.9 2 2 2h14c1.1 0 2-.9 2-2V5c0-1.1-.9-2-2-2zM9 17H7v-7h2v7zm4 0h-2V7h2v10zm4 0h-2v-4h2v4z\"/>\n",
              "    </g>\n",
              "</svg>\n",
              "  </button>\n",
              "\n",
              "<style>\n",
              "  .colab-df-quickchart {\n",
              "      --bg-color: #E8F0FE;\n",
              "      --fill-color: #1967D2;\n",
              "      --hover-bg-color: #E2EBFA;\n",
              "      --hover-fill-color: #174EA6;\n",
              "      --disabled-fill-color: #AAA;\n",
              "      --disabled-bg-color: #DDD;\n",
              "  }\n",
              "\n",
              "  [theme=dark] .colab-df-quickchart {\n",
              "      --bg-color: #3B4455;\n",
              "      --fill-color: #D2E3FC;\n",
              "      --hover-bg-color: #434B5C;\n",
              "      --hover-fill-color: #FFFFFF;\n",
              "      --disabled-bg-color: #3B4455;\n",
              "      --disabled-fill-color: #666;\n",
              "  }\n",
              "\n",
              "  .colab-df-quickchart {\n",
              "    background-color: var(--bg-color);\n",
              "    border: none;\n",
              "    border-radius: 50%;\n",
              "    cursor: pointer;\n",
              "    display: none;\n",
              "    fill: var(--fill-color);\n",
              "    height: 32px;\n",
              "    padding: 0;\n",
              "    width: 32px;\n",
              "  }\n",
              "\n",
              "  .colab-df-quickchart:hover {\n",
              "    background-color: var(--hover-bg-color);\n",
              "    box-shadow: 0 1px 2px rgba(60, 64, 67, 0.3), 0 1px 3px 1px rgba(60, 64, 67, 0.15);\n",
              "    fill: var(--button-hover-fill-color);\n",
              "  }\n",
              "\n",
              "  .colab-df-quickchart-complete:disabled,\n",
              "  .colab-df-quickchart-complete:disabled:hover {\n",
              "    background-color: var(--disabled-bg-color);\n",
              "    fill: var(--disabled-fill-color);\n",
              "    box-shadow: none;\n",
              "  }\n",
              "\n",
              "  .colab-df-spinner {\n",
              "    border: 2px solid var(--fill-color);\n",
              "    border-color: transparent;\n",
              "    border-bottom-color: var(--fill-color);\n",
              "    animation:\n",
              "      spin 1s steps(1) infinite;\n",
              "  }\n",
              "\n",
              "  @keyframes spin {\n",
              "    0% {\n",
              "      border-color: transparent;\n",
              "      border-bottom-color: var(--fill-color);\n",
              "      border-left-color: var(--fill-color);\n",
              "    }\n",
              "    20% {\n",
              "      border-color: transparent;\n",
              "      border-left-color: var(--fill-color);\n",
              "      border-top-color: var(--fill-color);\n",
              "    }\n",
              "    30% {\n",
              "      border-color: transparent;\n",
              "      border-left-color: var(--fill-color);\n",
              "      border-top-color: var(--fill-color);\n",
              "      border-right-color: var(--fill-color);\n",
              "    }\n",
              "    40% {\n",
              "      border-color: transparent;\n",
              "      border-right-color: var(--fill-color);\n",
              "      border-top-color: var(--fill-color);\n",
              "    }\n",
              "    60% {\n",
              "      border-color: transparent;\n",
              "      border-right-color: var(--fill-color);\n",
              "    }\n",
              "    80% {\n",
              "      border-color: transparent;\n",
              "      border-right-color: var(--fill-color);\n",
              "      border-bottom-color: var(--fill-color);\n",
              "    }\n",
              "    90% {\n",
              "      border-color: transparent;\n",
              "      border-bottom-color: var(--fill-color);\n",
              "    }\n",
              "  }\n",
              "</style>\n",
              "\n",
              "  <script>\n",
              "    async function quickchart(key) {\n",
              "      const quickchartButtonEl =\n",
              "        document.querySelector('#' + key + ' button');\n",
              "      quickchartButtonEl.disabled = true;  // To prevent multiple clicks.\n",
              "      quickchartButtonEl.classList.add('colab-df-spinner');\n",
              "      try {\n",
              "        const charts = await google.colab.kernel.invokeFunction(\n",
              "            'suggestCharts', [key], {});\n",
              "      } catch (error) {\n",
              "        console.error('Error during call to suggestCharts:', error);\n",
              "      }\n",
              "      quickchartButtonEl.classList.remove('colab-df-spinner');\n",
              "      quickchartButtonEl.classList.add('colab-df-quickchart-complete');\n",
              "    }\n",
              "    (() => {\n",
              "      let quickchartButtonEl =\n",
              "        document.querySelector('#df-fea3fdff-1166-4cd4-9808-0bc7fc0cfa3c button');\n",
              "      quickchartButtonEl.style.display =\n",
              "        google.colab.kernel.accessAllowed ? 'block' : 'none';\n",
              "    })();\n",
              "  </script>\n",
              "</div>\n",
              "\n",
              "    </div>\n",
              "  </div>\n"
            ]
          },
          "metadata": {},
          "execution_count": 2
        }
      ]
    },
    {
      "cell_type": "code",
      "source": [
        "print(\"Number of records: \", medium_data.shape[0])\n",
        "print(\"Number of fields: \", medium_data.shape[1])"
      ],
      "metadata": {
        "colab": {
          "base_uri": "https://localhost:8080/"
        },
        "id": "KPCm03q22oqi",
        "outputId": "3cfe9bbd-5ba0-4042-dcc5-73dbf278b9c0"
      },
      "execution_count": 3,
      "outputs": [
        {
          "output_type": "stream",
          "name": "stdout",
          "text": [
            "Number of records:  6508\n",
            "Number of fields:  10\n"
          ]
        }
      ]
    },
    {
      "cell_type": "code",
      "source": [
        "medium_data['title']"
      ],
      "metadata": {
        "colab": {
          "base_uri": "https://localhost:8080/"
        },
        "id": "YbjDdi6a2sPv",
        "outputId": "8c3e1911-75c9-4537-823d-02c185c5115c"
      },
      "execution_count": 4,
      "outputs": [
        {
          "output_type": "execute_result",
          "data": {
            "text/plain": [
              "0       A Beginner’s Guide to Word Embedding with Gens...\n",
              "1       Hands-on Graph Neural Networks with PyTorch & ...\n",
              "2                            How to Use ggplot2 in Python\n",
              "3       Databricks: How to Save Files in CSV on Your L...\n",
              "4       A Step-by-Step Implementation of Gradient Desc...\n",
              "                              ...                        \n",
              "6503    “We” vs “I” — How Should You Talk About Yourse...\n",
              "6504                     How Donald Trump Markets Himself\n",
              "6505        Content and Marketing Beyond Mass Consumption\n",
              "6506    5 Questions All Copywriters Should Ask Clients...\n",
              "6507               How To Write a Good Business Blog Post\n",
              "Name: title, Length: 6508, dtype: object"
            ]
          },
          "metadata": {},
          "execution_count": 4
        }
      ]
    },
    {
      "cell_type": "code",
      "source": [
        "medium_data['title'] = medium_data['title'].apply(lambda x: x.replace(u'\\xa0',u' '))\n",
        "medium_data['title'] = medium_data['title'].apply(lambda x: x.replace('\\u200a',' '))"
      ],
      "metadata": {
        "id": "QeY_ZmEs2vLk"
      },
      "execution_count": 5,
      "outputs": []
    },
    {
      "cell_type": "code",
      "source": [
        "tokenizer = Tokenizer(oov_token='<oov>') # For those words which are not found in word_index\n",
        "tokenizer.fit_on_texts(medium_data['title'])\n",
        "total_words = len(tokenizer.word_index) + 1\n",
        "\n",
        "print(\"Total number of words: \", total_words)\n",
        "print(\"Word: ID\")\n",
        "print(\"------------\")\n",
        "print(\"<oov>: \", tokenizer.word_index['<oov>'])\n",
        "print(\"Strong: \", tokenizer.word_index['strong'])\n",
        "print(\"And: \", tokenizer.word_index['and'])\n",
        "print(\"Consumption: \", tokenizer.word_index['consumption'])"
      ],
      "metadata": {
        "colab": {
          "base_uri": "https://localhost:8080/"
        },
        "id": "U07_OpZk2x1e",
        "outputId": "e7a34756-6a0a-4990-8dfb-d7dfdfe3489d"
      },
      "execution_count": 6,
      "outputs": [
        {
          "output_type": "stream",
          "name": "stdout",
          "text": [
            "Total number of words:  8238\n",
            "Word: ID\n",
            "------------\n",
            "<oov>:  1\n",
            "Strong:  4\n",
            "And:  8\n",
            "Consumption:  8237\n"
          ]
        }
      ]
    },
    {
      "cell_type": "code",
      "source": [
        "input_sequences = []\n",
        "for line in medium_data['title']:\n",
        "    token_list = tokenizer.texts_to_sequences([line])[0]\n",
        "    #print(token_list)\n",
        "\n",
        "    for i in range(1, len(token_list)):\n",
        "        n_gram_sequence = token_list[:i+1]\n",
        "        input_sequences.append(n_gram_sequence)\n",
        "\n",
        "# print(input_sequences)\n",
        "print(\"Total input sequences: \", len(input_sequences))"
      ],
      "metadata": {
        "colab": {
          "base_uri": "https://localhost:8080/"
        },
        "id": "H2SbraeI207d",
        "outputId": "e081be18-3054-48a7-8a86-88cfaae7ff6f"
      },
      "execution_count": 7,
      "outputs": [
        {
          "output_type": "stream",
          "name": "stdout",
          "text": [
            "Total input sequences:  48461\n"
          ]
        }
      ]
    },
    {
      "cell_type": "code",
      "source": [
        "# pad sequences\n",
        "max_sequence_len = max([len(x) for x in input_sequences])\n",
        "input_sequences = np.array(pad_sequences(input_sequences, maxlen=max_sequence_len, padding='pre'))\n",
        "input_sequences[1]"
      ],
      "metadata": {
        "colab": {
          "base_uri": "https://localhost:8080/"
        },
        "id": "otzM-gVW23QX",
        "outputId": "26d50113-fa7d-45d7-e91a-95d4a5315031"
      },
      "execution_count": 8,
      "outputs": [
        {
          "output_type": "execute_result",
          "data": {
            "text/plain": [
              "array([  0,   0,   0,   0,   0,   0,   0,   0,   0,   0,   0,   0,   0,\n",
              "         0,   0,   0,   0,   0,   0,   0,   0,   0,   0,   0,   0,   0,\n",
              "         0,   0,   0,   0,   0,   0,   0,   0,   0,   0,   0,   5, 676,\n",
              "        68], dtype=int32)"
            ]
          },
          "metadata": {},
          "execution_count": 8
        }
      ]
    },
    {
      "cell_type": "code",
      "source": [
        "# create features and label\n",
        "xs, labels = input_sequences[:,:-1],input_sequences[:,-1]\n",
        "ys = tf.keras.utils.to_categorical(labels, num_classes=total_words)"
      ],
      "metadata": {
        "id": "HWzn1zi625WE"
      },
      "execution_count": 9,
      "outputs": []
    },
    {
      "cell_type": "code",
      "source": [
        "print(xs[5])\n",
        "print(labels[5])\n",
        "print(ys[5][14])"
      ],
      "metadata": {
        "colab": {
          "base_uri": "https://localhost:8080/"
        },
        "id": "J_xNjZZW27m8",
        "outputId": "68c4fe05-cd03-4643-8f2a-31505af73eab"
      },
      "execution_count": 10,
      "outputs": [
        {
          "output_type": "stream",
          "name": "stdout",
          "text": [
            "[   0    0    0    0    0    0    0    0    0    0    0    0    0    0\n",
            "    0    0    0    0    0    0    0    0    0    0    0    0    0    0\n",
            "    0    0    0    0    0    5  676   68    2  452 1518]\n",
            "14\n",
            "1.0\n"
          ]
        }
      ]
    },
    {
      "cell_type": "code",
      "source": [
        "model = Sequential()\n",
        "model.add(Embedding(total_words, 100, input_length=max_sequence_len-1))\n",
        "model.add(Bidirectional(LSTM(150)))\n",
        "model.add(Dense(total_words, activation='softmax'))\n",
        "adam = Adam(lr=0.01)\n",
        "model.compile(loss='categorical_crossentropy', optimizer=adam, metrics=['accuracy'])\n",
        "history = model.fit(xs, ys, epochs=50, verbose=1)\n",
        "#print model.summary()\n",
        "print(model)"
      ],
      "metadata": {
        "colab": {
          "base_uri": "https://localhost:8080/"
        },
        "id": "Ec-_O94r2_gD",
        "outputId": "92e90c1e-7a3a-47a6-9283-0540e92dbcd7"
      },
      "execution_count": 11,
      "outputs": [
        {
          "output_type": "stream",
          "name": "stderr",
          "text": [
            "WARNING:absl:`lr` is deprecated in Keras optimizer, please use `learning_rate` or use the legacy optimizer, e.g.,tf.keras.optimizers.legacy.Adam.\n"
          ]
        },
        {
          "output_type": "stream",
          "name": "stdout",
          "text": [
            "Epoch 1/50\n",
            "1515/1515 [==============================] - 38s 21ms/step - loss: 6.9928 - accuracy: 0.0848\n",
            "Epoch 2/50\n",
            "1515/1515 [==============================] - 21s 14ms/step - loss: 6.1745 - accuracy: 0.1375\n",
            "Epoch 3/50\n",
            "1515/1515 [==============================] - 19s 12ms/step - loss: 5.6329 - accuracy: 0.1680\n",
            "Epoch 4/50\n",
            "1515/1515 [==============================] - 18s 12ms/step - loss: 5.1431 - accuracy: 0.1929\n",
            "Epoch 5/50\n",
            "1515/1515 [==============================] - 19s 13ms/step - loss: 4.6905 - accuracy: 0.2179\n",
            "Epoch 6/50\n",
            "1515/1515 [==============================] - 18s 12ms/step - loss: 4.2671 - accuracy: 0.2482\n",
            "Epoch 7/50\n",
            "1515/1515 [==============================] - 18s 12ms/step - loss: 3.8704 - accuracy: 0.2881\n",
            "Epoch 8/50\n",
            "1515/1515 [==============================] - 18s 12ms/step - loss: 3.4970 - accuracy: 0.3393\n",
            "Epoch 9/50\n",
            "1515/1515 [==============================] - 18s 12ms/step - loss: 3.1463 - accuracy: 0.3942\n",
            "Epoch 10/50\n",
            "1515/1515 [==============================] - 19s 12ms/step - loss: 2.8296 - accuracy: 0.4477\n",
            "Epoch 11/50\n",
            "1515/1515 [==============================] - 18s 12ms/step - loss: 2.5452 - accuracy: 0.5002\n",
            "Epoch 12/50\n",
            "1515/1515 [==============================] - 18s 12ms/step - loss: 2.2960 - accuracy: 0.5441\n",
            "Epoch 13/50\n",
            "1515/1515 [==============================] - 18s 12ms/step - loss: 2.0753 - accuracy: 0.5889\n",
            "Epoch 14/50\n",
            "1515/1515 [==============================] - 18s 12ms/step - loss: 1.8799 - accuracy: 0.6261\n",
            "Epoch 15/50\n",
            "1515/1515 [==============================] - 19s 12ms/step - loss: 1.7068 - accuracy: 0.6577\n",
            "Epoch 16/50\n",
            "1515/1515 [==============================] - 18s 12ms/step - loss: 1.5548 - accuracy: 0.6895\n",
            "Epoch 17/50\n",
            "1515/1515 [==============================] - 20s 13ms/step - loss: 1.4215 - accuracy: 0.7176\n",
            "Epoch 18/50\n",
            "1515/1515 [==============================] - 18s 12ms/step - loss: 1.3056 - accuracy: 0.7393\n",
            "Epoch 19/50\n",
            "1515/1515 [==============================] - 18s 12ms/step - loss: 1.2039 - accuracy: 0.7591\n",
            "Epoch 20/50\n",
            "1515/1515 [==============================] - 19s 12ms/step - loss: 1.1140 - accuracy: 0.7751\n",
            "Epoch 21/50\n",
            "1515/1515 [==============================] - 18s 12ms/step - loss: 1.0346 - accuracy: 0.7916\n",
            "Epoch 22/50\n",
            "1515/1515 [==============================] - 18s 12ms/step - loss: 0.9700 - accuracy: 0.8026\n",
            "Epoch 23/50\n",
            "1515/1515 [==============================] - 17s 11ms/step - loss: 0.9139 - accuracy: 0.8138\n",
            "Epoch 24/50\n",
            "1515/1515 [==============================] - 18s 12ms/step - loss: 0.8635 - accuracy: 0.8216\n",
            "Epoch 25/50\n",
            "1515/1515 [==============================] - 18s 12ms/step - loss: 0.8181 - accuracy: 0.8299\n",
            "Epoch 26/50\n",
            "1515/1515 [==============================] - 18s 12ms/step - loss: 0.7841 - accuracy: 0.8351\n",
            "Epoch 27/50\n",
            "1515/1515 [==============================] - 18s 12ms/step - loss: 0.7533 - accuracy: 0.8384\n",
            "Epoch 28/50\n",
            "1515/1515 [==============================] - 18s 12ms/step - loss: 0.7304 - accuracy: 0.8426\n",
            "Epoch 29/50\n",
            "1515/1515 [==============================] - 17s 12ms/step - loss: 0.7070 - accuracy: 0.8450\n",
            "Epoch 30/50\n",
            "1515/1515 [==============================] - 18s 12ms/step - loss: 0.6880 - accuracy: 0.8472\n",
            "Epoch 31/50\n",
            "1515/1515 [==============================] - 18s 12ms/step - loss: 0.6715 - accuracy: 0.8489\n",
            "Epoch 32/50\n",
            "1515/1515 [==============================] - 18s 12ms/step - loss: 0.6596 - accuracy: 0.8497\n",
            "Epoch 33/50\n",
            "1515/1515 [==============================] - 19s 12ms/step - loss: 0.6483 - accuracy: 0.8499\n",
            "Epoch 34/50\n",
            "1515/1515 [==============================] - 17s 12ms/step - loss: 0.6358 - accuracy: 0.8526\n",
            "Epoch 35/50\n",
            "1515/1515 [==============================] - 18s 12ms/step - loss: 0.6272 - accuracy: 0.8533\n",
            "Epoch 36/50\n",
            "1515/1515 [==============================] - 18s 12ms/step - loss: 0.6206 - accuracy: 0.8534\n",
            "Epoch 37/50\n",
            "1515/1515 [==============================] - 18s 12ms/step - loss: 0.6141 - accuracy: 0.8540\n",
            "Epoch 38/50\n",
            "1515/1515 [==============================] - 18s 12ms/step - loss: 0.6087 - accuracy: 0.8532\n",
            "Epoch 39/50\n",
            "1515/1515 [==============================] - 17s 12ms/step - loss: 0.6026 - accuracy: 0.8543\n",
            "Epoch 40/50\n",
            "1515/1515 [==============================] - 19s 12ms/step - loss: 0.5994 - accuracy: 0.8540\n",
            "Epoch 41/50\n",
            "1515/1515 [==============================] - 18s 12ms/step - loss: 0.5941 - accuracy: 0.8552\n",
            "Epoch 42/50\n",
            "1515/1515 [==============================] - 17s 12ms/step - loss: 0.5894 - accuracy: 0.8553\n",
            "Epoch 43/50\n",
            "1515/1515 [==============================] - 18s 12ms/step - loss: 0.5882 - accuracy: 0.8550\n",
            "Epoch 44/50\n",
            "1515/1515 [==============================] - 18s 12ms/step - loss: 0.5835 - accuracy: 0.8563\n",
            "Epoch 45/50\n",
            "1515/1515 [==============================] - 18s 12ms/step - loss: 0.5818 - accuracy: 0.8553\n",
            "Epoch 46/50\n",
            "1515/1515 [==============================] - 18s 12ms/step - loss: 0.5796 - accuracy: 0.8554\n",
            "Epoch 47/50\n",
            "1515/1515 [==============================] - 17s 11ms/step - loss: 0.5775 - accuracy: 0.8554\n",
            "Epoch 48/50\n",
            "1515/1515 [==============================] - 20s 13ms/step - loss: 0.5743 - accuracy: 0.8557\n",
            "Epoch 49/50\n",
            "1515/1515 [==============================] - 18s 12ms/step - loss: 0.5732 - accuracy: 0.8562\n",
            "Epoch 50/50\n",
            "1515/1515 [==============================] - 18s 12ms/step - loss: 0.5720 - accuracy: 0.8549\n",
            "<keras.src.engine.sequential.Sequential object at 0x7d69a04b1210>\n"
          ]
        }
      ]
    },
    {
      "cell_type": "code",
      "source": [
        "import matplotlib.pyplot as plt\n",
        "\n",
        "\n",
        "def plot_graphs(history, string):\n",
        "    plt.plot(history.history[string])\n",
        "    plt.xlabel(\"Epochs\")\n",
        "    plt.ylabel(string)\n",
        "    plt.show()"
      ],
      "metadata": {
        "id": "XNIucsPJ6kKh"
      },
      "execution_count": 12,
      "outputs": []
    },
    {
      "cell_type": "code",
      "source": [
        "plot_graphs(history, 'accuracy')"
      ],
      "metadata": {
        "colab": {
          "base_uri": "https://localhost:8080/",
          "height": 449
        },
        "id": "TnFweGAw6m8f",
        "outputId": "f517c8e8-b117-4a8d-a001-ae34b4f5881f"
      },
      "execution_count": 13,
      "outputs": [
        {
          "output_type": "display_data",
          "data": {
            "text/plain": [
              "<Figure size 640x480 with 1 Axes>"
            ],
            "image/png": "[encoded data removed]"
          },
          "metadata": {}
        }
      ]
    },
    {
      "cell_type": "code",
      "source": [
        "plot_graphs(history, 'loss')"
      ],
      "metadata": {
        "colab": {
          "base_uri": "https://localhost:8080/",
          "height": 449
        },
        "id": "y2nc-A5y6qyB",
        "outputId": "b61028f4-a0c0-43b3-fea5-441e79c0a0de"
      },
      "execution_count": 14,
      "outputs": [
        {
          "output_type": "display_data",
          "data": {
            "text/plain": [
              "<Figure size 640x480 with 1 Axes>"
            ],
            "image/png": "[encoded data removed]"
          },
          "metadata": {}
        }
      ]
    },
    {
      "cell_type": "code",
      "source": [
        "seed_text = \"the  \"\n",
        "next_words = 2\n",
        "\n",
        "for _ in range(next_words):\n",
        "    token_list = tokenizer.texts_to_sequences([seed_text])[0]\n",
        "    token_list = pad_sequences([token_list], maxlen=max_sequence_len-1, padding='pre')\n",
        "    predicted_probabilities = model.predict(token_list, verbose=0)\n",
        "    predicted_index = np.argmax(predicted_probabilities)\n",
        "\n",
        "    output_word = \"\"\n",
        "    for word, index in tokenizer.word_index.items():\n",
        "        if index == predicted_index:\n",
        "            output_word = word\n",
        "            break\n",
        "    seed_text += \" \" + output_word\n",
        "\n",
        "print(seed_text)\n"
      ],
      "metadata": {
        "colab": {
          "base_uri": "https://localhost:8080/"
        },
        "id": "Zxeb5wjq64_S",
        "outputId": "fcfdc9f4-f638-4c7d-8821-e693e7112bc3"
      },
      "execution_count": 20,
      "outputs": [
        {
          "output_type": "stream",
          "name": "stdout",
          "text": [
            "the   importance of\n"
          ]
        }
      ]
    },
    {
      "cell_type": "code",
      "source": [
        "# Assuming 'model' is your Keras Sequential model\n",
        "model.summary()\n"
      ],
      "metadata": {
        "colab": {
          "base_uri": "https://localhost:8080/"
        },
        "id": "ga-aeDXC7U9Q",
        "outputId": "61b9c22a-c383-4f57-d35a-a30f2af49286"
      },
      "execution_count": 21,
      "outputs": [
        {
          "output_type": "stream",
          "name": "stdout",
          "text": [
            "Model: \"sequential\"\n",
            "_________________________________________________________________\n",
            " Layer (type)                Output Shape              Param #   \n",
            "=================================================================\n",
            " embedding (Embedding)       (None, 39, 100)           823800    \n",
            "                                                                 \n",
            " bidirectional (Bidirection  (None, 300)               301200    \n",
            " al)                                                             \n",
            "                                                                 \n",
            " dense (Dense)               (None, 8238)              2479638   \n",
            "                                                                 \n",
            "=================================================================\n",
            "Total params: 3604638 (13.75 MB)\n",
            "Trainable params: 3604638 (13.75 MB)\n",
            "Non-trainable params: 0 (0.00 Byte)\n",
            "_________________________________________________________________\n"
          ]
        }
      ]
    }
  ],
  "metadata": {
    "accelerator": "GPU",
    "colab": {
      "provenance": [],
      "mount_file_id": "1sY7v9sU6CY1LUbHkFmUzYiiySmW-67Ty",
      "authorship_tag": "ABX9TyNCyX/r7QSB7/bgIG9K5fau",
      "include_colab_link": true
    },
    "kernelspec": {
      "display_name": "Python 3",
      "name": "python3"
    },
    "language_info": {
      "name": "python"
    }
  },
  "nbformat": 4,
  "nbformat_minor": 0
}