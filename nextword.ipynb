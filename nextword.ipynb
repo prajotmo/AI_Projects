{
  "nbformat": 4,
  "nbformat_minor": 0,
  "metadata": {
    "colab": {
      "provenance": [],
      "gpuType": "T4",
      "mount_file_id": "1sY7v9sU6CY1LUbHkFmUzYiiySmW-67Ty",
      "authorship_tag": "ABX9TyPUGpXHh8xDrmJBWZ7wQ1Nb",
      "include_colab_link": true
    },
    "kernelspec": {
      "name": "python3",
      "display_name": "Python 3"
    },
    "language_info": {
      "name": "python"
    },
    "accelerator": "GPU"
  },
  "cells": [
    {
      "cell_type": "markdown",
      "metadata": {
        "id": "view-in-github",
        "colab_type": "text"
      },
      "source": [
        "<a href=\"https://colab.research.google.com/github/prajotmo/next-word-prediction-using-BI--LSTM/blob/main/nextword.ipynb\" target=\"_parent\"><img src=\"https://colab.research.google.com/assets/colab-badge.svg\" alt=\"Open In Colab\"/></a>"
      ]
    },
    {
      "cell_type": "code",
      "source": [
        "import numpy as np\n",
        "import matplotlib.pyplot as plt\n",
        "from tensorflow.keras.models import Sequential\n",
        "from tensorflow.keras.layers import Embedding, Bidirectional, LSTM, Dense\n",
        "from tensorflow.keras.preprocessing.text import Tokenizer\n",
        "from tensorflow.keras.preprocessing.sequence import pad_sequences\n",
        "from sklearn.model_selection import train_test_split\n"
      ],
      "metadata": {
        "id": "yNRqGGkdus-2"
      },
      "execution_count": 10,
      "outputs": []
    },
    {
      "cell_type": "code",
      "source": [
        "# Load and preprocess the sample data\n",
        "with open('/content/drive/MyDrive/text.txt', 'r', encoding='utf-8') as file:\n",
        "    data = file.read()\n"
      ],
      "metadata": {
        "id": "wWl5qsfHuxIe"
      },
      "execution_count": 11,
      "outputs": []
    },
    {
      "cell_type": "code",
      "source": [
        "# Tokenize the text data\n",
        "tokenizer = Tokenizer()\n",
        "tokenizer.fit_on_texts([data])\n",
        "total_words = len(tokenizer.word_index) + 1"
      ],
      "metadata": {
        "id": "6IC6Zfwqu2zp"
      },
      "execution_count": 12,
      "outputs": []
    },
    {
      "cell_type": "code",
      "source": [
        "# Create input sequences and labels\n",
        "input_sequences = []\n",
        "for line in data.split('\\n'):\n",
        "    token_list = tokenizer.texts_to_sequences([line])[0]\n",
        "    for i in range(1, len(token_list)):\n",
        "        n_gram_sequence = token_list[:i+1]\n",
        "        input_sequences.append(n_gram_sequence)\n",
        "\n",
        "max_sequence_length = max([len(seq) for seq in input_sequences])\n",
        "input_sequences = pad_sequences(input_sequences, maxlen=max_sequence_length, padding='pre')\n",
        "X, y = input_sequences[:, :-1], input_sequences[:, -1]\n",
        "y = np.array([y]).T\n"
      ],
      "metadata": {
        "id": "ygEgUihBu5We"
      },
      "execution_count": 14,
      "outputs": []
    },
    {
      "cell_type": "code",
      "source": [
        "# Split the data into training and testing sets\n",
        "X_train, X_test, y_train, y_test = train_test_split(X, y, test_size=0.2, random_state=42)\n"
      ],
      "metadata": {
        "id": "TBrKPARGvAjF"
      },
      "execution_count": 15,
      "outputs": []
    },
    {
      "cell_type": "code",
      "source": [
        "# Build the model\n",
        "model = Sequential()\n",
        "model.add(Embedding(total_words, 100, input_length=max_sequence_length-1))\n",
        "model.add(Bidirectional(LSTM(150, return_sequences=True)))\n",
        "model.add(Bidirectional(LSTM(100)))\n",
        "model.add(Dense(total_words, activation='softmax'))\n",
        "\n",
        "model.compile(optimizer='adam', loss='sparse_categorical_crossentropy', metrics=['accuracy'])\n",
        "model.summary()"
      ],
      "metadata": {
        "colab": {
          "base_uri": "https://localhost:8080/"
        },
        "id": "IK2Dv6x3vDDH",
        "outputId": "9127f795-66a8-4f8a-fd44-f1c65f99c250"
      },
      "execution_count": 16,
      "outputs": [
        {
          "output_type": "stream",
          "name": "stdout",
          "text": [
            "Model: \"sequential_3\"\n",
            "_________________________________________________________________\n",
            " Layer (type)                Output Shape              Param #   \n",
            "=================================================================\n",
            " embedding_3 (Embedding)     (None, 19, 100)           893200    \n",
            "                                                                 \n",
            " bidirectional_6 (Bidirecti  (None, 19, 300)           301200    \n",
            " onal)                                                           \n",
            "                                                                 \n",
            " bidirectional_7 (Bidirecti  (None, 200)               320800    \n",
            " onal)                                                           \n",
            "                                                                 \n",
            " dense_3 (Dense)             (None, 8932)              1795332   \n",
            "                                                                 \n",
            "=================================================================\n",
            "Total params: 3310532 (12.63 MB)\n",
            "Trainable params: 3310532 (12.63 MB)\n",
            "Non-trainable params: 0 (0.00 Byte)\n",
            "_________________________________________________________________\n"
          ]
        }
      ]
    },
    {
      "cell_type": "code",
      "source": [
        "# Train the model\n",
        "history = model.fit(X_train, y_train, epochs=100, verbose=1, validation_data=(X_test, y_test))\n"
      ],
      "metadata": {
        "colab": {
          "base_uri": "https://localhost:8080/"
        },
        "id": "bmFt_iunvFdG",
        "outputId": "3fee6437-e3fc-45f6-d3ac-3ad37ceedb85"
      },
      "execution_count": 17,
      "outputs": [
        {
          "output_type": "stream",
          "name": "stdout",
          "text": [
            "Epoch 1/100\n",
            "2541/2541 [==============================] - 51s 17ms/step - loss: 6.3763 - accuracy: 0.0644 - val_loss: 6.1119 - val_accuracy: 0.0821\n",
            "Epoch 2/100\n",
            "2541/2541 [==============================] - 33s 13ms/step - loss: 5.7330 - accuracy: 0.1020 - val_loss: 5.9368 - val_accuracy: 0.1163\n",
            "Epoch 3/100\n",
            "2541/2541 [==============================] - 34s 14ms/step - loss: 5.3774 - accuracy: 0.1271 - val_loss: 5.8943 - val_accuracy: 0.1267\n",
            "Epoch 4/100\n",
            "2541/2541 [==============================] - 32s 13ms/step - loss: 5.1308 - accuracy: 0.1414 - val_loss: 5.9156 - val_accuracy: 0.1346\n",
            "Epoch 5/100\n",
            "2541/2541 [==============================] - 33s 13ms/step - loss: 4.9106 - accuracy: 0.1555 - val_loss: 6.0013 - val_accuracy: 0.1368\n",
            "Epoch 6/100\n",
            "2541/2541 [==============================] - 35s 14ms/step - loss: 4.7139 - accuracy: 0.1646 - val_loss: 6.1067 - val_accuracy: 0.1398\n",
            "Epoch 7/100\n",
            "2541/2541 [==============================] - 33s 13ms/step - loss: 4.5338 - accuracy: 0.1739 - val_loss: 6.2577 - val_accuracy: 0.1401\n",
            "Epoch 8/100\n",
            "2541/2541 [==============================] - 32s 13ms/step - loss: 4.3687 - accuracy: 0.1851 - val_loss: 6.3761 - val_accuracy: 0.1429\n",
            "Epoch 9/100\n",
            "2541/2541 [==============================] - 34s 14ms/step - loss: 4.2038 - accuracy: 0.1956 - val_loss: 6.5437 - val_accuracy: 0.1439\n",
            "Epoch 10/100\n",
            "2541/2541 [==============================] - 33s 13ms/step - loss: 4.0395 - accuracy: 0.2078 - val_loss: 6.7059 - val_accuracy: 0.1419\n",
            "Epoch 11/100\n",
            "2541/2541 [==============================] - 33s 13ms/step - loss: 3.8819 - accuracy: 0.2212 - val_loss: 6.8880 - val_accuracy: 0.1420\n",
            "Epoch 12/100\n",
            "2541/2541 [==============================] - 33s 13ms/step - loss: 3.7245 - accuracy: 0.2391 - val_loss: 7.0734 - val_accuracy: 0.1434\n",
            "Epoch 13/100\n",
            "2541/2541 [==============================] - 33s 13ms/step - loss: 3.5755 - accuracy: 0.2573 - val_loss: 7.2431 - val_accuracy: 0.1391\n",
            "Epoch 14/100\n",
            "2541/2541 [==============================] - 35s 14ms/step - loss: 3.4329 - accuracy: 0.2755 - val_loss: 7.4074 - val_accuracy: 0.1365\n",
            "Epoch 15/100\n",
            "2541/2541 [==============================] - 33s 13ms/step - loss: 3.2981 - accuracy: 0.2938 - val_loss: 7.5947 - val_accuracy: 0.1353\n",
            "Epoch 16/100\n",
            "2541/2541 [==============================] - 34s 14ms/step - loss: 3.1628 - accuracy: 0.3160 - val_loss: 7.7661 - val_accuracy: 0.1337\n",
            "Epoch 17/100\n",
            "2541/2541 [==============================] - 34s 14ms/step - loss: 3.0345 - accuracy: 0.3358 - val_loss: 7.9295 - val_accuracy: 0.1283\n",
            "Epoch 18/100\n",
            "2541/2541 [==============================] - 34s 14ms/step - loss: 2.9046 - accuracy: 0.3572 - val_loss: 8.0907 - val_accuracy: 0.1260\n",
            "Epoch 19/100\n",
            "2541/2541 [==============================] - 36s 14ms/step - loss: 2.7792 - accuracy: 0.3779 - val_loss: 8.2456 - val_accuracy: 0.1221\n",
            "Epoch 20/100\n",
            "2541/2541 [==============================] - 33s 13ms/step - loss: 2.6571 - accuracy: 0.4023 - val_loss: 8.4455 - val_accuracy: 0.1240\n",
            "Epoch 21/100\n",
            "2541/2541 [==============================] - 35s 14ms/step - loss: 2.5374 - accuracy: 0.4244 - val_loss: 8.5927 - val_accuracy: 0.1183\n",
            "Epoch 22/100\n",
            "2541/2541 [==============================] - 32s 13ms/step - loss: 2.4210 - accuracy: 0.4455 - val_loss: 8.7799 - val_accuracy: 0.1180\n",
            "Epoch 23/100\n",
            "2541/2541 [==============================] - 32s 13ms/step - loss: 2.3104 - accuracy: 0.4675 - val_loss: 8.9093 - val_accuracy: 0.1131\n",
            "Epoch 24/100\n",
            "2541/2541 [==============================] - 33s 13ms/step - loss: 2.1978 - accuracy: 0.4904 - val_loss: 9.1036 - val_accuracy: 0.1133\n",
            "Epoch 25/100\n",
            "2541/2541 [==============================] - 33s 13ms/step - loss: 2.0904 - accuracy: 0.5130 - val_loss: 9.2892 - val_accuracy: 0.1102\n",
            "Epoch 26/100\n",
            "2541/2541 [==============================] - 33s 13ms/step - loss: 1.9905 - accuracy: 0.5364 - val_loss: 9.4261 - val_accuracy: 0.1090\n",
            "Epoch 27/100\n",
            "2541/2541 [==============================] - 37s 14ms/step - loss: 1.8870 - accuracy: 0.5587 - val_loss: 9.5846 - val_accuracy: 0.1066\n",
            "Epoch 28/100\n",
            "2541/2541 [==============================] - 33s 13ms/step - loss: 1.7927 - accuracy: 0.5798 - val_loss: 9.7587 - val_accuracy: 0.1087\n",
            "Epoch 29/100\n",
            "2541/2541 [==============================] - 33s 13ms/step - loss: 1.7030 - accuracy: 0.5984 - val_loss: 9.9148 - val_accuracy: 0.1052\n",
            "Epoch 30/100\n",
            "2541/2541 [==============================] - 35s 14ms/step - loss: 1.6154 - accuracy: 0.6187 - val_loss: 10.0845 - val_accuracy: 0.1035\n",
            "Epoch 31/100\n",
            "2541/2541 [==============================] - 33s 13ms/step - loss: 1.5353 - accuracy: 0.6373 - val_loss: 10.2339 - val_accuracy: 0.1065\n",
            "Epoch 32/100\n",
            "2541/2541 [==============================] - 32s 13ms/step - loss: 1.4543 - accuracy: 0.6548 - val_loss: 10.4220 - val_accuracy: 0.1012\n",
            "Epoch 33/100\n",
            "2541/2541 [==============================] - 34s 14ms/step - loss: 1.3801 - accuracy: 0.6730 - val_loss: 10.5380 - val_accuracy: 0.1003\n",
            "Epoch 34/100\n",
            "2541/2541 [==============================] - 32s 13ms/step - loss: 1.3128 - accuracy: 0.6887 - val_loss: 10.7192 - val_accuracy: 0.1004\n",
            "Epoch 35/100\n",
            "2541/2541 [==============================] - 33s 13ms/step - loss: 1.2471 - accuracy: 0.7030 - val_loss: 10.8653 - val_accuracy: 0.0997\n",
            "Epoch 36/100\n",
            "2541/2541 [==============================] - 34s 13ms/step - loss: 1.1868 - accuracy: 0.7192 - val_loss: 10.9682 - val_accuracy: 0.0984\n",
            "Epoch 37/100\n",
            "2541/2541 [==============================] - 33s 13ms/step - loss: 1.1259 - accuracy: 0.7336 - val_loss: 11.1326 - val_accuracy: 0.0965\n",
            "Epoch 38/100\n",
            "2541/2541 [==============================] - 32s 13ms/step - loss: 1.0688 - accuracy: 0.7463 - val_loss: 11.2936 - val_accuracy: 0.0995\n",
            "Epoch 39/100\n",
            "2541/2541 [==============================] - 34s 13ms/step - loss: 1.0209 - accuracy: 0.7578 - val_loss: 11.4316 - val_accuracy: 0.0976\n",
            "Epoch 40/100\n",
            "2541/2541 [==============================] - 35s 14ms/step - loss: 0.9776 - accuracy: 0.7690 - val_loss: 11.5447 - val_accuracy: 0.0956\n",
            "Epoch 41/100\n",
            "2541/2541 [==============================] - 35s 14ms/step - loss: 0.9364 - accuracy: 0.7771 - val_loss: 11.6703 - val_accuracy: 0.0948\n",
            "Epoch 42/100\n",
            "2541/2541 [==============================] - 34s 13ms/step - loss: 0.8990 - accuracy: 0.7863 - val_loss: 11.8578 - val_accuracy: 0.0945\n",
            "Epoch 43/100\n",
            "2541/2541 [==============================] - 33s 13ms/step - loss: 0.8621 - accuracy: 0.7949 - val_loss: 11.9386 - val_accuracy: 0.0956\n",
            "Epoch 44/100\n",
            "2541/2541 [==============================] - 32s 13ms/step - loss: 0.8204 - accuracy: 0.8053 - val_loss: 12.0184 - val_accuracy: 0.0959\n",
            "Epoch 45/100\n",
            "2541/2541 [==============================] - 34s 14ms/step - loss: 0.8027 - accuracy: 0.8090 - val_loss: 12.1522 - val_accuracy: 0.0933\n",
            "Epoch 46/100\n",
            "2541/2541 [==============================] - 32s 13ms/step - loss: 0.7762 - accuracy: 0.8148 - val_loss: 12.3214 - val_accuracy: 0.0969\n",
            "Epoch 47/100\n",
            "2541/2541 [==============================] - 32s 13ms/step - loss: 0.7460 - accuracy: 0.8204 - val_loss: 12.4516 - val_accuracy: 0.0948\n",
            "Epoch 48/100\n",
            "2541/2541 [==============================] - 32s 13ms/step - loss: 0.7189 - accuracy: 0.8293 - val_loss: 12.4850 - val_accuracy: 0.0931\n",
            "Epoch 49/100\n",
            "2541/2541 [==============================] - 34s 13ms/step - loss: 0.7009 - accuracy: 0.8307 - val_loss: 12.6344 - val_accuracy: 0.0930\n",
            "Epoch 50/100\n",
            "2541/2541 [==============================] - 32s 13ms/step - loss: 0.6801 - accuracy: 0.8345 - val_loss: 12.7710 - val_accuracy: 0.0921\n",
            "Epoch 51/100\n",
            "2541/2541 [==============================] - 32s 13ms/step - loss: 0.6679 - accuracy: 0.8372 - val_loss: 12.8501 - val_accuracy: 0.0918\n",
            "Epoch 52/100\n",
            "2541/2541 [==============================] - 34s 13ms/step - loss: 0.6454 - accuracy: 0.8445 - val_loss: 12.8854 - val_accuracy: 0.0939\n",
            "Epoch 53/100\n",
            "2541/2541 [==============================] - 35s 14ms/step - loss: 0.6316 - accuracy: 0.8451 - val_loss: 13.0259 - val_accuracy: 0.0942\n",
            "Epoch 54/100\n",
            "2541/2541 [==============================] - 33s 13ms/step - loss: 0.6197 - accuracy: 0.8477 - val_loss: 13.0326 - val_accuracy: 0.0928\n",
            "Epoch 55/100\n",
            "2541/2541 [==============================] - 35s 14ms/step - loss: 0.6048 - accuracy: 0.8514 - val_loss: 13.1919 - val_accuracy: 0.0953\n",
            "Epoch 56/100\n",
            "2541/2541 [==============================] - 33s 13ms/step - loss: 0.5915 - accuracy: 0.8525 - val_loss: 13.3233 - val_accuracy: 0.0917\n",
            "Epoch 57/100\n",
            "2541/2541 [==============================] - 32s 13ms/step - loss: 0.5862 - accuracy: 0.8542 - val_loss: 13.3907 - val_accuracy: 0.0899\n",
            "Epoch 58/100\n",
            "2541/2541 [==============================] - 32s 13ms/step - loss: 0.5709 - accuracy: 0.8577 - val_loss: 13.5185 - val_accuracy: 0.0937\n",
            "Epoch 59/100\n",
            "2541/2541 [==============================] - 33s 13ms/step - loss: 0.5670 - accuracy: 0.8560 - val_loss: 13.5136 - val_accuracy: 0.0892\n",
            "Epoch 60/100\n",
            "2541/2541 [==============================] - 34s 13ms/step - loss: 0.5593 - accuracy: 0.8601 - val_loss: 13.5834 - val_accuracy: 0.0912\n",
            "Epoch 61/100\n",
            "2541/2541 [==============================] - 34s 13ms/step - loss: 0.5453 - accuracy: 0.8633 - val_loss: 13.7335 - val_accuracy: 0.0921\n",
            "Epoch 62/100\n",
            "2541/2541 [==============================] - 34s 14ms/step - loss: 0.5442 - accuracy: 0.8616 - val_loss: 13.7438 - val_accuracy: 0.0916\n",
            "Epoch 63/100\n",
            "2541/2541 [==============================] - 34s 13ms/step - loss: 0.5367 - accuracy: 0.8632 - val_loss: 13.7910 - val_accuracy: 0.0923\n",
            "Epoch 64/100\n",
            "2541/2541 [==============================] - 34s 14ms/step - loss: 0.5284 - accuracy: 0.8652 - val_loss: 13.9742 - val_accuracy: 0.0916\n",
            "Epoch 65/100\n",
            "2541/2541 [==============================] - 35s 14ms/step - loss: 0.5217 - accuracy: 0.8663 - val_loss: 13.9478 - val_accuracy: 0.0902\n",
            "Epoch 66/100\n",
            "2541/2541 [==============================] - 35s 14ms/step - loss: 0.5216 - accuracy: 0.8646 - val_loss: 14.0563 - val_accuracy: 0.0908\n",
            "Epoch 67/100\n",
            "2541/2541 [==============================] - 33s 13ms/step - loss: 0.5061 - accuracy: 0.8702 - val_loss: 14.1038 - val_accuracy: 0.0913\n",
            "Epoch 68/100\n",
            "2541/2541 [==============================] - 35s 14ms/step - loss: 0.5083 - accuracy: 0.8685 - val_loss: 14.1698 - val_accuracy: 0.0922\n",
            "Epoch 69/100\n",
            "2541/2541 [==============================] - 36s 14ms/step - loss: 0.5053 - accuracy: 0.8690 - val_loss: 14.3136 - val_accuracy: 0.0887\n",
            "Epoch 70/100\n",
            "2541/2541 [==============================] - 34s 13ms/step - loss: 0.5004 - accuracy: 0.8697 - val_loss: 14.2691 - val_accuracy: 0.0892\n",
            "Epoch 71/100\n",
            "2541/2541 [==============================] - 35s 14ms/step - loss: 0.4966 - accuracy: 0.8695 - val_loss: 14.3927 - val_accuracy: 0.0921\n",
            "Epoch 72/100\n",
            "2541/2541 [==============================] - 34s 13ms/step - loss: 0.4848 - accuracy: 0.8718 - val_loss: 14.3523 - val_accuracy: 0.0906\n",
            "Epoch 73/100\n",
            "2541/2541 [==============================] - 34s 13ms/step - loss: 0.4879 - accuracy: 0.8706 - val_loss: 14.5081 - val_accuracy: 0.0939\n",
            "Epoch 74/100\n",
            "2541/2541 [==============================] - 35s 14ms/step - loss: 0.4844 - accuracy: 0.8713 - val_loss: 14.5029 - val_accuracy: 0.0905\n",
            "Epoch 75/100\n",
            "2541/2541 [==============================] - 34s 14ms/step - loss: 0.4812 - accuracy: 0.8725 - val_loss: 14.5325 - val_accuracy: 0.0898\n",
            "Epoch 76/100\n",
            "2541/2541 [==============================] - 35s 14ms/step - loss: 0.4780 - accuracy: 0.8726 - val_loss: 14.6937 - val_accuracy: 0.0909\n",
            "Epoch 77/100\n",
            "2541/2541 [==============================] - 33s 13ms/step - loss: 0.4744 - accuracy: 0.8736 - val_loss: 14.6584 - val_accuracy: 0.0912\n",
            "Epoch 78/100\n",
            "2541/2541 [==============================] - 34s 13ms/step - loss: 0.4804 - accuracy: 0.8717 - val_loss: 14.6967 - val_accuracy: 0.0901\n",
            "Epoch 79/100\n",
            "2541/2541 [==============================] - 33s 13ms/step - loss: 0.4605 - accuracy: 0.8773 - val_loss: 14.7772 - val_accuracy: 0.0904\n",
            "Epoch 80/100\n",
            "2541/2541 [==============================] - 33s 13ms/step - loss: 0.4698 - accuracy: 0.8730 - val_loss: 14.7855 - val_accuracy: 0.0893\n",
            "Epoch 81/100\n",
            "2541/2541 [==============================] - 33s 13ms/step - loss: 0.4685 - accuracy: 0.8725 - val_loss: 14.8826 - val_accuracy: 0.0925\n",
            "Epoch 82/100\n",
            "2541/2541 [==============================] - 33s 13ms/step - loss: 0.4617 - accuracy: 0.8743 - val_loss: 14.7758 - val_accuracy: 0.0917\n",
            "Epoch 83/100\n",
            "2541/2541 [==============================] - 35s 14ms/step - loss: 0.4644 - accuracy: 0.8743 - val_loss: 14.9313 - val_accuracy: 0.0910\n",
            "Epoch 84/100\n",
            "2541/2541 [==============================] - 33s 13ms/step - loss: 0.4641 - accuracy: 0.8742 - val_loss: 15.0585 - val_accuracy: 0.0918\n",
            "Epoch 85/100\n",
            "2541/2541 [==============================] - 33s 13ms/step - loss: 0.4554 - accuracy: 0.8755 - val_loss: 15.0182 - val_accuracy: 0.0908\n",
            "Epoch 86/100\n",
            "2541/2541 [==============================] - 35s 14ms/step - loss: 0.4562 - accuracy: 0.8759 - val_loss: 15.0938 - val_accuracy: 0.0912\n",
            "Epoch 87/100\n",
            "2541/2541 [==============================] - 33s 13ms/step - loss: 0.4547 - accuracy: 0.8745 - val_loss: 15.1139 - val_accuracy: 0.0897\n",
            "Epoch 88/100\n",
            "2541/2541 [==============================] - 32s 13ms/step - loss: 0.4578 - accuracy: 0.8743 - val_loss: 15.1199 - val_accuracy: 0.0941\n",
            "Epoch 89/100\n",
            "2541/2541 [==============================] - 35s 14ms/step - loss: 0.4536 - accuracy: 0.8756 - val_loss: 15.2334 - val_accuracy: 0.0926\n",
            "Epoch 90/100\n",
            "2541/2541 [==============================] - 33s 13ms/step - loss: 0.4519 - accuracy: 0.8760 - val_loss: 15.2701 - val_accuracy: 0.0914\n",
            "Epoch 91/100\n",
            "2541/2541 [==============================] - 35s 14ms/step - loss: 0.4461 - accuracy: 0.8775 - val_loss: 15.2773 - val_accuracy: 0.0911\n",
            "Epoch 92/100\n",
            "2541/2541 [==============================] - 34s 13ms/step - loss: 0.4496 - accuracy: 0.8760 - val_loss: 15.3141 - val_accuracy: 0.0915\n",
            "Epoch 93/100\n",
            "2541/2541 [==============================] - 35s 14ms/step - loss: 0.4426 - accuracy: 0.8779 - val_loss: 15.3275 - val_accuracy: 0.0902\n",
            "Epoch 94/100\n",
            "2541/2541 [==============================] - 33s 13ms/step - loss: 0.4480 - accuracy: 0.8752 - val_loss: 15.3590 - val_accuracy: 0.0919\n",
            "Epoch 95/100\n",
            "2541/2541 [==============================] - 35s 14ms/step - loss: 0.4470 - accuracy: 0.8744 - val_loss: 15.4048 - val_accuracy: 0.0900\n",
            "Epoch 96/100\n",
            "2541/2541 [==============================] - 35s 14ms/step - loss: 0.4331 - accuracy: 0.8790 - val_loss: 15.4741 - val_accuracy: 0.0907\n",
            "Epoch 97/100\n",
            "2541/2541 [==============================] - 35s 14ms/step - loss: 0.4497 - accuracy: 0.8741 - val_loss: 15.5445 - val_accuracy: 0.0893\n",
            "Epoch 98/100\n",
            "2541/2541 [==============================] - 34s 13ms/step - loss: 0.4451 - accuracy: 0.8757 - val_loss: 15.5208 - val_accuracy: 0.0925\n",
            "Epoch 99/100\n",
            "2541/2541 [==============================] - 35s 14ms/step - loss: 0.4349 - accuracy: 0.8781 - val_loss: 15.5602 - val_accuracy: 0.0911\n",
            "Epoch 100/100\n",
            "2541/2541 [==============================] - 34s 13ms/step - loss: 0.4371 - accuracy: 0.8767 - val_loss: 15.5213 - val_accuracy: 0.0886\n"
          ]
        }
      ]
    },
    {
      "cell_type": "code",
      "source": [
        "# Plot accuracy and loss graphs\n",
        "def plot_metrics(history):\n",
        "    # Plot training & validation accuracy values\n",
        "    plt.figure(figsize=(12, 4))\n",
        "    plt.subplot(1, 2, 1)\n",
        "    plt.plot(history.history['accuracy'])\n",
        "    plt.plot(history.history['val_accuracy'])\n",
        "    plt.title('Model Accuracy')\n",
        "    plt.xlabel('Epoch')\n",
        "    plt.ylabel('Accuracy')\n",
        "    plt.legend(['Train', 'Validation'], loc='upper left')\n",
        "\n",
        "    # Plot training & validation loss values\n",
        "    plt.subplot(1, 2, 2)\n",
        "    plt.plot(history.history['loss'])\n",
        "    plt.plot(history.history['val_loss'])\n",
        "    plt.title('Model Loss')\n",
        "    plt.xlabel('Epoch')\n",
        "    plt.ylabel('Loss')\n",
        "    plt.legend(['Train', 'Validation'], loc='upper left')\n",
        "\n",
        "    plt.tight_layout()\n",
        "    plt.show()\n",
        "\n",
        "# Call the function to plot accuracy and loss graphs\n",
        "plot_metrics(history)\n"
      ],
      "metadata": {
        "colab": {
          "base_uri": "https://localhost:8080/",
          "height": 407
        },
        "id": "L0JLj6uG8N8g",
        "outputId": "a5d4a523-8e8d-4ab0-bf8e-b48d6d4cbe70"
      },
      "execution_count": 22,
      "outputs": [
        {
          "output_type": "display_data",
          "data": {
            "text/plain": [
              "<Figure size 1200x400 with 2 Axes>"
            ],
            "image/png": "[encoded data removed]"
          },
          "metadata": {}
        }
      ]
    },
    {
      "cell_type": "code",
      "source": [
        "# Function to generate the next word\n",
        "def generate_next_word(seed_text, model, tokenizer, max_sequence_length):\n",
        "    for _ in range(10):  # Adjust the number of words to generate\n",
        "        token_list = tokenizer.texts_to_sequences([seed_text])[0]\n",
        "        token_list = pad_sequences([token_list], maxlen=max_sequence_length-1, padding='pre')\n",
        "        predicted = model.predict(token_list, verbose=0)\n",
        "        predicted_index = np.argmax(predicted)\n",
        "        output_word = \"\"\n",
        "        for word, index in tokenizer.word_index.items():\n",
        "            if index == predicted_index:\n",
        "                output_word = word\n",
        "                break\n",
        "        seed_text += \" \" + output_word\n",
        "    return seed_text\n",
        "\n",
        "# Example usage\n",
        "seed_text = \"The sun is\"\n",
        "next_word_prediction = generate_next_word(seed_text, model, tokenizer, max_sequence_length)\n",
        "print(\"Next word prediction:\", next_word_prediction)"
      ],
      "metadata": {
        "colab": {
          "base_uri": "https://localhost:8080/"
        },
        "id": "9KrXFdwW8duE",
        "outputId": "eed6e3ba-4b6b-44c0-928d-716c798d648b"
      },
      "execution_count": 23,
      "outputs": [
        {
          "output_type": "stream",
          "name": "stdout",
          "text": [
            "Next word prediction: The sun is easier and a few from half places and cases would\n"
          ]
        }
      ]
    }
  ]
}